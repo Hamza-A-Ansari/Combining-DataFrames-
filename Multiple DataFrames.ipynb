{
 "cells": [
  {
   "cell_type": "markdown",
   "id": "0c58a655",
   "metadata": {},
   "source": [
    "If we want to combine multiple DataFrames:"
   ]
  },
  {
   "cell_type": "markdown",
   "id": "454f91c2",
   "metadata": {},
   "source": [
    "1) Import Library"
   ]
  },
  {
   "cell_type": "code",
   "execution_count": 6,
   "id": "b2c8b951",
   "metadata": {},
   "outputs": [],
   "source": [
    "import pandas as pd\n",
    "import os"
   ]
  },
  {
   "cell_type": "markdown",
   "id": "641fcfaa",
   "metadata": {},
   "source": [
    "2) Create variabe for input output file name and\n",
    "   put all the files(which we want to combine) in input folder "
   ]
  },
  {
   "cell_type": "code",
   "execution_count": 7,
   "id": "f3dc6b04",
   "metadata": {},
   "outputs": [],
   "source": [
    "input_loc=\"C:/Users/Shakeel/Desktop/jupyter/input_data/\"\n",
    "output_loc=\"C:/Users/Shakeel/Desktop/jupyter/output_data/\""
   ]
  },
  {
   "cell_type": "markdown",
   "id": "9ac5e464",
   "metadata": {},
   "source": [
    "3) Create variable to store all files"
   ]
  },
  {
   "cell_type": "code",
   "execution_count": 8,
   "id": "df1ddc8d",
   "metadata": {},
   "outputs": [
    {
     "data": {
      "text/plain": [
       "['SALES_DATA1.csv', 'SALES_DATA2.csv']"
      ]
     },
     "execution_count": 8,
     "metadata": {},
     "output_type": "execute_result"
    }
   ],
   "source": [
    "file_list=os.listdir(input_loc)\n",
    "file_list"
   ]
  },
  {
   "cell_type": "markdown",
   "id": "ae7f0f02",
   "metadata": {},
   "source": [
    "4) Concate all file using for loop"
   ]
  },
  {
   "cell_type": "code",
   "execution_count": 9,
   "id": "29a59596",
   "metadata": {},
   "outputs": [],
   "source": [
    "final_df=pd.DataFrame()\n",
    "for file in file_list:\n",
    "    if file.endswith(\".csv\"):\n",
    "        df=pd.read_csv(input_loc+file)\n",
    "        final_df=final_df.append(df)\n",
    "final_df.to_csv(output_loc+\"Final_df.csv\")"
   ]
  },
  {
   "cell_type": "code",
   "execution_count": 12,
   "id": "c514aa99",
   "metadata": {},
   "outputs": [
    {
     "data": {
      "text/html": [
       "<div>\n",
       "<style scoped>\n",
       "    .dataframe tbody tr th:only-of-type {\n",
       "        vertical-align: middle;\n",
       "    }\n",
       "\n",
       "    .dataframe tbody tr th {\n",
       "        vertical-align: top;\n",
       "    }\n",
       "\n",
       "    .dataframe thead th {\n",
       "        text-align: right;\n",
       "    }\n",
       "</style>\n",
       "<table border=\"1\" class=\"dataframe\">\n",
       "  <thead>\n",
       "    <tr style=\"text-align: right;\">\n",
       "      <th></th>\n",
       "      <th>Unnamed: 0</th>\n",
       "      <th>Unnamed: 0.1</th>\n",
       "      <th>Units</th>\n",
       "      <th>UnitCost</th>\n",
       "      <th>Unit Ordered</th>\n",
       "      <th>Date OF Order</th>\n",
       "      <th>Rep</th>\n",
       "      <th>Item</th>\n",
       "      <th>Region</th>\n",
       "    </tr>\n",
       "  </thead>\n",
       "  <tbody>\n",
       "    <tr>\n",
       "      <th>0</th>\n",
       "      <td>0</td>\n",
       "      <td>0</td>\n",
       "      <td>95.0</td>\n",
       "      <td>1.99</td>\n",
       "      <td>45.0</td>\n",
       "      <td>2020-01-06</td>\n",
       "      <td>NaN</td>\n",
       "      <td>NaN</td>\n",
       "      <td>NaN</td>\n",
       "    </tr>\n",
       "    <tr>\n",
       "      <th>1</th>\n",
       "      <td>1</td>\n",
       "      <td>1</td>\n",
       "      <td>50.0</td>\n",
       "      <td>19.99</td>\n",
       "      <td>66.0</td>\n",
       "      <td>2020-01-23</td>\n",
       "      <td>NaN</td>\n",
       "      <td>NaN</td>\n",
       "      <td>NaN</td>\n",
       "    </tr>\n",
       "    <tr>\n",
       "      <th>2</th>\n",
       "      <td>2</td>\n",
       "      <td>2</td>\n",
       "      <td>36.0</td>\n",
       "      <td>4.99</td>\n",
       "      <td>77.0</td>\n",
       "      <td>2020-02-09</td>\n",
       "      <td>NaN</td>\n",
       "      <td>NaN</td>\n",
       "      <td>NaN</td>\n",
       "    </tr>\n",
       "    <tr>\n",
       "      <th>3</th>\n",
       "      <td>3</td>\n",
       "      <td>3</td>\n",
       "      <td>27.0</td>\n",
       "      <td>19.99</td>\n",
       "      <td>5.0</td>\n",
       "      <td>2020-02-26</td>\n",
       "      <td>NaN</td>\n",
       "      <td>NaN</td>\n",
       "      <td>NaN</td>\n",
       "    </tr>\n",
       "    <tr>\n",
       "      <th>4</th>\n",
       "      <td>4</td>\n",
       "      <td>4</td>\n",
       "      <td>56.0</td>\n",
       "      <td>2.99</td>\n",
       "      <td>98.0</td>\n",
       "      <td>2020-03-15</td>\n",
       "      <td>NaN</td>\n",
       "      <td>NaN</td>\n",
       "      <td>NaN</td>\n",
       "    </tr>\n",
       "    <tr>\n",
       "      <th>...</th>\n",
       "      <td>...</td>\n",
       "      <td>...</td>\n",
       "      <td>...</td>\n",
       "      <td>...</td>\n",
       "      <td>...</td>\n",
       "      <td>...</td>\n",
       "      <td>...</td>\n",
       "      <td>...</td>\n",
       "      <td>...</td>\n",
       "    </tr>\n",
       "    <tr>\n",
       "      <th>81</th>\n",
       "      <td>38</td>\n",
       "      <td>38</td>\n",
       "      <td>NaN</td>\n",
       "      <td>NaN</td>\n",
       "      <td>NaN</td>\n",
       "      <td>NaN</td>\n",
       "      <td>Thompson</td>\n",
       "      <td>towel</td>\n",
       "      <td>West</td>\n",
       "    </tr>\n",
       "    <tr>\n",
       "      <th>82</th>\n",
       "      <td>39</td>\n",
       "      <td>39</td>\n",
       "      <td>NaN</td>\n",
       "      <td>NaN</td>\n",
       "      <td>NaN</td>\n",
       "      <td>NaN</td>\n",
       "      <td>Andrews</td>\n",
       "      <td>T-Shirt</td>\n",
       "      <td>Central</td>\n",
       "    </tr>\n",
       "    <tr>\n",
       "      <th>83</th>\n",
       "      <td>40</td>\n",
       "      <td>40</td>\n",
       "      <td>NaN</td>\n",
       "      <td>NaN</td>\n",
       "      <td>NaN</td>\n",
       "      <td>NaN</td>\n",
       "      <td>Jardine</td>\n",
       "      <td>earphones</td>\n",
       "      <td>Central</td>\n",
       "    </tr>\n",
       "    <tr>\n",
       "      <th>84</th>\n",
       "      <td>41</td>\n",
       "      <td>41</td>\n",
       "      <td>NaN</td>\n",
       "      <td>NaN</td>\n",
       "      <td>NaN</td>\n",
       "      <td>NaN</td>\n",
       "      <td>Jardine</td>\n",
       "      <td>motherboard</td>\n",
       "      <td>Central</td>\n",
       "    </tr>\n",
       "    <tr>\n",
       "      <th>85</th>\n",
       "      <td>42</td>\n",
       "      <td>42</td>\n",
       "      <td>NaN</td>\n",
       "      <td>NaN</td>\n",
       "      <td>NaN</td>\n",
       "      <td>NaN</td>\n",
       "      <td>Andrews</td>\n",
       "      <td>graphic card</td>\n",
       "      <td>Central</td>\n",
       "    </tr>\n",
       "  </tbody>\n",
       "</table>\n",
       "<p>86 rows × 9 columns</p>\n",
       "</div>"
      ],
      "text/plain": [
       "    Unnamed: 0  Unnamed: 0.1  Units  UnitCost  Unit Ordered Date OF Order  \\\n",
       "0            0             0   95.0      1.99          45.0    2020-01-06   \n",
       "1            1             1   50.0     19.99          66.0    2020-01-23   \n",
       "2            2             2   36.0      4.99          77.0    2020-02-09   \n",
       "3            3             3   27.0     19.99           5.0    2020-02-26   \n",
       "4            4             4   56.0      2.99          98.0    2020-03-15   \n",
       "..         ...           ...    ...       ...           ...           ...   \n",
       "81          38            38    NaN       NaN           NaN           NaN   \n",
       "82          39            39    NaN       NaN           NaN           NaN   \n",
       "83          40            40    NaN       NaN           NaN           NaN   \n",
       "84          41            41    NaN       NaN           NaN           NaN   \n",
       "85          42            42    NaN       NaN           NaN           NaN   \n",
       "\n",
       "         Rep          Item   Region  \n",
       "0        NaN           NaN      NaN  \n",
       "1        NaN           NaN      NaN  \n",
       "2        NaN           NaN      NaN  \n",
       "3        NaN           NaN      NaN  \n",
       "4        NaN           NaN      NaN  \n",
       "..       ...           ...      ...  \n",
       "81  Thompson         towel     West  \n",
       "82   Andrews       T-Shirt  Central  \n",
       "83   Jardine     earphones  Central  \n",
       "84   Jardine   motherboard  Central  \n",
       "85   Andrews  graphic card  Central  \n",
       "\n",
       "[86 rows x 9 columns]"
      ]
     },
     "execution_count": 12,
     "metadata": {},
     "output_type": "execute_result"
    }
   ],
   "source": [
    "Final_DataFrame = pd.read_csv(\"C:/Users/Shakeel/Desktop/jupyter/output_data/Final_df.csv\")\n",
    "Final_DataFrame"
   ]
  },
  {
   "cell_type": "code",
   "execution_count": null,
   "id": "08428d37",
   "metadata": {},
   "outputs": [],
   "source": []
  }
 ],
 "metadata": {
  "kernelspec": {
   "display_name": "Python 3",
   "language": "python",
   "name": "python3"
  },
  "language_info": {
   "codemirror_mode": {
    "name": "ipython",
    "version": 3
   },
   "file_extension": ".py",
   "mimetype": "text/x-python",
   "name": "python",
   "nbconvert_exporter": "python",
   "pygments_lexer": "ipython3",
   "version": "3.8.8"
  }
 },
 "nbformat": 4,
 "nbformat_minor": 5
}
